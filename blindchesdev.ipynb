{
 "cells": [
  {
   "cell_type": "code",
   "execution_count": 63,
   "metadata": {},
   "outputs": [],
   "source": [
    "import chess\n",
    "import numpy as np\n",
    "import os\n",
    "import random\n",
    "from gtts import gTTS\n",
    "from playsound import playsound"
   ]
  },
  {
   "cell_type": "code",
   "execution_count": 64,
   "metadata": {},
   "outputs": [
    {
     "data": {
      "text/plain": [
       "0"
      ]
     },
     "execution_count": 64,
     "metadata": {},
     "output_type": "execute_result"
    }
   ],
   "source": [
    "tts = gTTS('the computer played h 3')\n",
    "tts.save('test.mp3')\n",
    "os.system('afplay test.mp3')\n",
    "\n"
   ]
  },
  {
   "cell_type": "code",
   "execution_count": 86,
   "metadata": {},
   "outputs": [],
   "source": [
    "phoneticSpelling = {\n",
    "    'a' : 'ei',\n",
    "    'b' : 'b',\n",
    "    'c' : 'c', \n",
    "    'd' : 'd', \n",
    "    'e' : 'e', \n",
    "    'f' : 'f',\n",
    "    'g' : 'g',\n",
    "    'h' : 'h'\n",
    "\n",
    "}\n",
    "pieceNames = {\n",
    "    'Q' : 'Queen',\n",
    "    'K' : 'King',\n",
    "    'R' : 'Rook',\n",
    "    'B' : 'Bishop',\n",
    "    'N' : 'Knight'\n",
    "}"
   ]
  },
  {
   "cell_type": "code",
   "execution_count": 66,
   "metadata": {},
   "outputs": [],
   "source": [
    "#prompt player to choose white or black \n",
    "def getPlayerColor():\n",
    "    playerColor = (input('what color would you like to play as?')).lower()\n",
    "    while True:\n",
    "        if playerColor in ('w', 'white', 'b', 'black'): \n",
    "            break \n",
    "        else: \n",
    "            print('sorry not a valid input')\n",
    "            playerColor = (input('what color would you like to play as?')).lower()\n",
    "            continue\n",
    "    if playerColor in ('w', 'white'):\n",
    "        return True\n",
    "    else:\n",
    "        return False\n"
   ]
  },
  {
   "cell_type": "code",
   "execution_count": 68,
   "metadata": {},
   "outputs": [],
   "source": [
    "\n",
    "def promptLegalMoves(board: chess.Board):\n",
    "    playerInput = (input('enter \\\"moves\\\" to see all legal moves, \\\"cheat\\\" to see the full board,  or anything else to continue')).lower()\n",
    "    if playerInput == 'moves': \n",
    "        print(board.legal_moves)\n",
    "        return False\n",
    "    elif playerInput == 'cheat':\n",
    "        print(board)\n",
    "        return False\n",
    "        \n",
    "        "
   ]
  },
  {
   "cell_type": "code",
   "execution_count": 5,
   "metadata": {},
   "outputs": [],
   "source": []
  },
  {
   "cell_type": "code",
   "execution_count": 69,
   "metadata": {},
   "outputs": [],
   "source": [
    "def getPlayerMove(board : chess.Board):\n",
    "    while True:\n",
    "        try:\n",
    "            userInput = input('enter a move in san or \\\"q\\\" to quit')\n",
    "            if userInput == 'q':\n",
    "                return False\n",
    "            else:\n",
    "                move = board.parse_san(userInput)\n",
    "        except:\n",
    "            print(\"not a valid move\")\n",
    "            promptLegalMoves(board)\n",
    "            continue\n",
    "        else: \n",
    "            return move\n",
    "    "
   ]
  },
  {
   "cell_type": "code",
   "execution_count": 81,
   "metadata": {},
   "outputs": [
    {
     "data": {
      "text/plain": [
       "0"
      ]
     },
     "execution_count": 81,
     "metadata": {},
     "output_type": "execute_result"
    }
   ],
   "source": [
    "thing = chess.Board()\n",
    "tts = gTTS(moveToText(thing, getPlayerMove(thing)))\n",
    "tts.save('test.mp3')\n",
    "os.system('afplay test.mp3')"
   ]
  },
  {
   "cell_type": "code",
   "execution_count": 16,
   "metadata": {},
   "outputs": [
    {
     "name": "stdout",
     "output_type": "stream",
     "text": [
      "False\n"
     ]
    }
   ],
   "source": [
    "test = chess.Board()\n",
    "print(getPlayerMove(test))"
   ]
  },
  {
   "cell_type": "code",
   "execution_count": 17,
   "metadata": {},
   "outputs": [],
   "source": [
    "def moveSanString(board : chess.Board, move: chess.Move):\n",
    "    return board.san(move)"
   ]
  },
  {
   "cell_type": "code",
   "execution_count": 18,
   "metadata": {},
   "outputs": [],
   "source": [
    "def getComputerMoveRandom(board: chess.Board):\n",
    "    move = random.choice(list(board.legal_moves))\n",
    "    return move\n",
    "    "
   ]
  },
  {
   "cell_type": "code",
   "execution_count": 72,
   "metadata": {},
   "outputs": [
    {
     "name": "stdout",
     "output_type": "stream",
     "text": [
      "b1c3\n"
     ]
    }
   ],
   "source": [
    "print(getComputerMoveRandom(test))"
   ]
  },
  {
   "cell_type": "code",
   "execution_count": 101,
   "metadata": {},
   "outputs": [],
   "source": [
    "\n",
    "def moveToText(board : chess.Board, move : chess.Move):\n",
    "    moveSan = board.san(move)\n",
    "    if moveSan == 'O-O': \n",
    "        return(\"Castles kingside\")\n",
    "    elif moveSan == 'O-O-O':\n",
    "        return(\"Castles queenside\")\n",
    "    else: \n",
    "        moveArr = [*moveSan]\n",
    "        if 'x' in moveArr:\n",
    "            moveArr[moveArr.index('x')] = 'takes'\n",
    "        if 'a' in moveArr:\n",
    "            moveArr[moveArr.index('a')] = 'ei'\n",
    "        if moveArr[0] not in ('Q', 'K', 'N', 'B', 'R'):\n",
    "            moveArr.insert(0, 'Pawn')\n",
    "        if '=' in moveArr:\n",
    "            moveArr[moveArr.index('=')] = 'promotes to'\n",
    "            moveArr[-1] = pieceNames[moveArr[-1]]\n",
    "        else:\n",
    "            moveArr.insert(len(moveArr) - 2, 'to')\n",
    "            moveArr[0] = pieceNames[moveArr[0]]\n",
    "        ret = \"\"\n",
    "        for i in moveArr:\n",
    "            ret = ret + i + \" \"\n",
    "        return ret\n",
    "    \n",
    "\n",
    "    \n",
    "    \n",
    "    \n",
    "    \n",
    "    \n",
    "    \n",
    "    '''\n",
    "    \n",
    "    elif 'x' in moveSan:\n",
    "        moveSan.replace('x', '')\n",
    "        moveSan.replace('a', 'ei')\n",
    "        if ('N' in moveSan):\n",
    "            arr = moveSan.split('N')\n",
    "            return(\"Knight takes \" + arr[1][0] + \" \" + arr[1][1])\n",
    "        elif (\"B\" in moveSan):\n",
    "            arr = moveSan.split('B')\n",
    "            return(\"Bishop takes\" + arr[1][0] + \" \" + arr[1][1])\n",
    "        elif (\"Q\" in moveSan):\n",
    "            arr = moveSan.split('Q')\n",
    "            return(\"Queen takes\" + arr[1][0] + \" \" + arr[1][1])\n",
    "        elif (\"K\" in moveSan):\n",
    "            arr = moveSan.split('B')\n",
    "            return(\"King takes\" + arr[1][0] + \" \" + arr[1][1])\n",
    "        elif (\"R\" in moveSan):\n",
    "            arr = moveSan.split('B')\n",
    "            return(\"Rook takes\" + arr[1][0] + \" \" + arr[1][1])\n",
    "        else:\n",
    "            return(\"Pawn takes\" + moveSan[0] + \" \" + moveSan[1])\n",
    "    else: \n",
    "        moveSan.replace('a',ei)\n",
    "        if ('N' in moveSan):\n",
    "            arr = moveSan.split('N')\n",
    "            return(\"Knight to \" + arr[1][0] + \" \" + arr[1][1])\n",
    "        elif (\"B\" in moveSan):\n",
    "            arr = moveSan.split('B')\n",
    "            return(\"Bishop to \" + arr[1][0] + \" \" + arr[1][1])\n",
    "        elif (\"Q\" in moveSan):\n",
    "            arr = moveSan.split('Q')\n",
    "            return(\"Queen to \" + arr[1][0] + \" \" + arr[1][1])\n",
    "        elif (\"K\" in moveSan):\n",
    "            arr = moveSan.split('B')\n",
    "            return(\"King to \" + arr[1][0] + \" \" + arr[1][1])\n",
    "        elif (\"R\" in moveSan):\n",
    "            arr = moveSan.split('B')\n",
    "            return(\"Rook to \" + arr[1][0] + \" \" + arr[1][1])\n",
    "        else:\n",
    "            return(\"Pawn to \" + moveSan[0] + \" \" + moveSan[1])\n",
    "            '''\n",
    "    "
   ]
  },
  {
   "cell_type": "code",
   "execution_count": 102,
   "metadata": {},
   "outputs": [
    {
     "name": "stdout",
     "output_type": "stream",
     "text": [
      "Kight to f 3 \n"
     ]
    }
   ],
   "source": [
    "print(moveToText(thing, getPlayerMove(thing)))"
   ]
  },
  {
   "cell_type": "code",
   "execution_count": 20,
   "metadata": {},
   "outputs": [
    {
     "name": "stdout",
     "output_type": "stream",
     "text": [
      "the computer played d4\n",
      "you played d5\n",
      "the computer played a3\n",
      "None\n"
     ]
    }
   ],
   "source": [
    "startColor = getPlayerColor()\n",
    "board = chess.Board()\n",
    "if startColor: #player is white\n",
    "    while(board.outcome() == None):\n",
    "        playerMove = getPlayerMove(board)\n",
    "        if playerMove == False:\n",
    "            break\n",
    "        print('you played ' + board.san(playerMove))\n",
    "        board.push(playerMove)\n",
    "        if board.is_check():\n",
    "            print('check')\n",
    "        computerMove = getComputerMoveRandom(board)\n",
    "        print('the computer played ' + board.san(computerMove))\n",
    "        board.push(computerMove)\n",
    "        if board.is_check():\n",
    "            print('check')\n",
    "    print(board.outcome())\n",
    "else: \n",
    "    while(board.outcome() == None):\n",
    "        computerMove = getComputerMoveRandom(board)\n",
    "        print('the computer played ' + board.san(computerMove))\n",
    "        board.push(computerMove)\n",
    "        if board.is_check():\n",
    "            print('check')\n",
    "        playerMove = getPlayerMove(board)\n",
    "        if playerMove == False:\n",
    "            break\n",
    "        print('you played ' + board.san(playerMove))\n",
    "        board.push(playerMove)\n",
    "        if board.is_check():\n",
    "            print('check')\n",
    "    print(board.outcome())\n",
    "    \n",
    "    \n",
    "    \n",
    "\n",
    "\n",
    "    \n"
   ]
  },
  {
   "cell_type": "code",
   "execution_count": null,
   "metadata": {},
   "outputs": [],
   "source": []
  }
 ],
 "metadata": {
  "kernelspec": {
   "display_name": "blindchess",
   "language": "python",
   "name": "python3"
  },
  "language_info": {
   "codemirror_mode": {
    "name": "ipython",
    "version": 3
   },
   "file_extension": ".py",
   "mimetype": "text/x-python",
   "name": "python",
   "nbconvert_exporter": "python",
   "pygments_lexer": "ipython3",
   "version": "3.9.17"
  },
  "orig_nbformat": 4
 },
 "nbformat": 4,
 "nbformat_minor": 2
}
