{
 "cells": [
  {
   "cell_type": "code",
   "execution_count": 22,
   "metadata": {},
   "outputs": [],
   "source": [
    "import speech_recognition as sr\n",
    "\n",
    "\n"
   ]
  },
  {
   "cell_type": "code",
   "execution_count": 5,
   "metadata": {},
   "outputs": [],
   "source": [
    "def recordAndConvert():\n",
    "    recognizer = sr.Recognizer()\n",
    "\n",
    "    with sr.Microphone() as source:\n",
    "        print(\"Speak something...\")\n",
    "        try:\n",
    "            audio = recognizer.listen(source, timeout=5)\n",
    "            text = recognizer.recognize_google(audio)\n",
    "            return text\n",
    "        except sr.WaitTimeoutError:\n",
    "            return \"No speech detected.\"\n",
    "        except sr.UnknownValueError:\n",
    "            return \"Sorry, could not understand audio.\"\n",
    "        except sr.RequestError as e:\n",
    "            return \"Could not request results; {0}\".format(e)\n",
    "        "
   ]
  },
  {
   "cell_type": "code",
   "execution_count": 6,
   "metadata": {},
   "outputs": [
    {
     "name": "stdout",
     "output_type": "stream",
     "text": [
      "Speak something...\n",
      "Sorry, could not understand audio.\n"
     ]
    }
   ],
   "source": [
    "print(recordAndConvert())"
   ]
  },
  {
   "cell_type": "code",
   "execution_count": 19,
   "metadata": {},
   "outputs": [],
   "source": [
    "pieceLetters = {\n",
    "    \"knight\" : \"N\",\n",
    "    \"king\" : \"K\", \n",
    "    \"night\" : \"K\",\n",
    "    \"queen\" : \"Q\", \n",
    "    \"bishop\" : \"B\",\n",
    "    \"pawn\" : \"P\", \n",
    "    \"rook\" : \"R\"\n",
    "}\n",
    "files = ('a', 'b', 'c', 'd', 'e', 'f', 'g', 'h')\n",
    "rows = ('1', '2', '3', '4', '5', '6', '7', '8')"
   ]
  },
  {
   "cell_type": "code",
   "execution_count": 36,
   "metadata": {},
   "outputs": [],
   "source": [
    "def convertToChessMove():\n",
    "    speech = recordAndConvert().lower()\n",
    "    if \"castles kingside\" in speech:\n",
    "        return \"O-O\"\n",
    "    elif \"castles queenside\" in speech: \n",
    "        return \"O-O-O\"\n",
    "    else:\n",
    "        textArr = speech.split(\" \")\n",
    "        print(textArr)\n",
    "        if textArr[0] not in pieceLetters.keys() and textArr[0][0] not in files:\n",
    "            return \"not a valid input\"\n",
    "        else:\n",
    "            if textArr[0] in pieceLetters.keys():\n",
    "                textArr[0] = pieceLetters[textArr[0]]\n",
    "        if 'tonight' in textArr:\n",
    "            textArr.insert(textArr.index(\"tonight\") + 1, \"knight\")\n",
    "            textArr[textArr.index(\"tonight\")] = \"to\"\n",
    "        if 'promotes' in textArr: \n",
    "            try: \n",
    "                textArr[textArr.index('promotes') + 1] = \"=\" \n",
    "                textArr[textArr.index('promotes') + 2] = pieceLetters[textArr[textArr.index('promotes') + 2]]\n",
    "                textArr[textArr.index('promotes')] = \"\"\n",
    "            except: \n",
    "                return \"not a valid input\"\n",
    "        if 'takes' in textArr:\n",
    "            textArr[textArr.index('takes')] = 'x'\n",
    "        if 'P' in textArr: \n",
    "            textArr[textArr.index('P')] = \"\"\n",
    "        if 'to' in textArr:\n",
    "            textArr[textArr.index('to')] = \"\"\n",
    "        ret = \"\"\n",
    "        for i in textArr:\n",
    "            ret += i\n",
    "        if 'x' in ret:\n",
    "            if ret[ret.index('x') -1] in rows: \n",
    "                ret = ret[0:ret.index('x')-1] + ret[ret.index('x'):len(ret)]\n",
    "        return ret\n",
    "\n",
    "\n",
    "\n"
   ]
  },
  {
   "cell_type": "code",
   "execution_count": 37,
   "metadata": {},
   "outputs": [
    {
     "name": "stdout",
     "output_type": "stream",
     "text": [
      "Speak something...\n",
      "['e4']\n"
     ]
    },
    {
     "data": {
      "text/plain": [
       "'e4'"
      ]
     },
     "execution_count": 37,
     "metadata": {},
     "output_type": "execute_result"
    }
   ],
   "source": [
    "convertToChessMove()"
   ]
  }
 ],
 "metadata": {
  "kernelspec": {
   "display_name": "blindchess",
   "language": "python",
   "name": "python3"
  },
  "language_info": {
   "codemirror_mode": {
    "name": "ipython",
    "version": 3
   },
   "file_extension": ".py",
   "mimetype": "text/x-python",
   "name": "python",
   "nbconvert_exporter": "python",
   "pygments_lexer": "ipython3",
   "version": "3.9.17"
  },
  "orig_nbformat": 4
 },
 "nbformat": 4,
 "nbformat_minor": 2
}
